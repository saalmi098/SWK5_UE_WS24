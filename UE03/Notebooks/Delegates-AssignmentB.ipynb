{
 "cells": [
  {
   "cell_type": "markdown",
   "metadata": {},
   "source": [
    "# Übungsaufgaben: Delegates & Events"
   ]
  },
  {
   "cell_type": "markdown",
   "metadata": {},
   "source": [
    "Führen Sie zunächst den folgenden Codeblock aus, um einige Testdaten für die kommenden Aufgaben zu erhalten."
   ]
  },
  {
   "cell_type": "code",
   "execution_count": 1,
   "metadata": {
    "dotnet_interactive": {
     "language": "csharp"
    },
    "vscode": {
     "languageId": "polyglot-notebook"
    }
   },
   "outputs": [],
   "source": [
    "public enum Gender\n",
    "{\n",
    "    Male,\n",
    "    Female,\n",
    "    Divers\n",
    "}\n",
    "\n",
    "public class Person\n",
    "{\n",
    "    public string FirstName { get; set; }\n",
    "    public DateTime DateOfBirth { get; set; }\n",
    "    public Gender Gender { get; set; }\n",
    "\n",
    "    public override string ToString() => this.FirstName;\n",
    "}\n",
    "\n",
    "var people = new []\n",
    "{\n",
    "    new Person { FirstName = \"Anna\", Gender = Gender.Female, DateOfBirth = new DateTime(2014, 4, 2) },\n",
    "    new Person { FirstName = \"Max\", Gender = Gender.Male, DateOfBirth = new DateTime(1998, 11, 18) },\n",
    "    new Person { FirstName = \"Barbara\", Gender = Gender.Female, DateOfBirth = new DateTime(2001, 1, 23) },\n",
    "    new Person { FirstName = \"Peter\", Gender = Gender.Male, DateOfBirth = new DateTime(2016, 7, 22) }\n",
    "};"
   ]
  },
  {
   "cell_type": "markdown",
   "metadata": {},
   "source": [
    "## Aufgabe 1:\n",
    "Erstellen Sie einen neuen Delegate-Typ namens ```PersonCheckDelegate``` für Methoden, die eine ```Person``` übergeben bekommen und einen ```bool``` liefern."
   ]
  },
  {
   "cell_type": "code",
   "execution_count": 2,
   "metadata": {
    "dotnet_interactive": {
     "language": "csharp"
    },
    "vscode": {
     "languageId": "polyglot-notebook"
    }
   },
   "outputs": [],
   "source": [
    "public delegate bool PersonCheckDelegate(Person p);"
   ]
  },
  {
   "cell_type": "markdown",
   "metadata": {},
   "source": [
    "## Aufgabe 2:\n",
    "Schreiben Sie eine Methode ```IsOldEnoughToVote```, die für eine Person entscheidet, ob sie bereits 18 Jahre alt ist. Die Methode soll dem in Aufgabe 1 geschriebenen Delegate-Typ entsprechen.\n",
    "\n",
    "Hinweis: Die Klasse ```DateTime``` beinhaltet die Methode ```AddYears(x)```, mit ```DateTime.Now``` erhalten Sie das aktuelle Datum."
   ]
  },
  {
   "cell_type": "code",
   "execution_count": 11,
   "metadata": {
    "dotnet_interactive": {
     "language": "csharp"
    },
    "vscode": {
     "languageId": "polyglot-notebook"
    }
   },
   "outputs": [],
   "source": [
    "bool IsOldEnoughToVote(Person p) => p.DateOfBirth.AddYears(18) <= DateTime.Now;"
   ]
  },
  {
   "cell_type": "markdown",
   "metadata": {},
   "source": [
    "## Aufgabe 3:\n",
    "Wenn Sie bisher alles richtig gemacht haben, sollte folgender Code ausführbar sein. Korrigieren Sie andernfalls Ihre Implementierung."
   ]
  },
  {
   "cell_type": "code",
   "execution_count": 4,
   "metadata": {
    "dotnet_interactive": {
     "language": "csharp"
    },
    "vscode": {
     "languageId": "polyglot-notebook"
    }
   },
   "outputs": [],
   "source": [
    "PersonCheckDelegate checkFunc = IsOldEnoughToVote;"
   ]
  },
  {
   "cell_type": "markdown",
   "metadata": {},
   "source": [
    "## Aufgabe 4:\n",
    "Iterieren Sie in einer ```foreach```-Schleife über alle Personen in ```people``` und rufen Sie die ```checkFunc``` für jede Person auf. Wenn der Check erfolgreich ist, geben Sie die Person auf der Konsole aus.\n",
    "\n",
    "Es sollten Max und Barbara ausgegeben werden."
   ]
  },
  {
   "cell_type": "code",
   "execution_count": 7,
   "metadata": {
    "dotnet_interactive": {
     "language": "csharp"
    },
    "vscode": {
     "languageId": "polyglot-notebook"
    }
   },
   "outputs": [
    {
     "name": "stdout",
     "output_type": "stream",
     "text": [
      "Anna\n",
      "Barbara\n"
     ]
    }
   ],
   "source": [
    "foreach (var p in people)\n",
    "{\n",
    "    if (checkFunc(p)) Console.WriteLine(p.FirstName);\n",
    "}"
   ]
  },
  {
   "cell_type": "markdown",
   "metadata": {},
   "source": [
    "## Aufgabe 5:\n",
    "Schreiben Sie eine **Lambda-Expression**, die dem ```PersonCheckDelegate```-Typ entspricht und abprüft, ob es sich um eine Frau handelt. Speichern Sie diese Lambda-Expression als Variable namens ```femaleCheck```.\n",
    "\n",
    "Weisen Sie den ```femaleCheck``` der bestehenden ```checkFunc``` zu.\n",
    "\n",
    "Führen Sie anschließend noch einmal den Code von Aufgabe 4 aus - nun sollten Anna und Barbara ausgegeben werden."
   ]
  },
  {
   "cell_type": "code",
   "execution_count": 9,
   "metadata": {
    "dotnet_interactive": {
     "language": "csharp"
    },
    "vscode": {
     "languageId": "polyglot-notebook"
    }
   },
   "outputs": [],
   "source": [
    "PersonCheckDelegate femaleCheck = (Person p) => p.Gender == Gender.Female;\n",
    "checkFunc = femaleCheck;"
   ]
  },
  {
   "cell_type": "markdown",
   "metadata": {},
   "source": [
    "## Aufgabe 6:\n",
    "Erstellen Sie eine Liste namens ```multipleChecks```, die beliebig viele ```PersonCheckDelegate```-Objekte beinhalten kann.\n",
    "\n",
    "Fügen Sie die bisherigen Methoden ```IsOldEnoughToVote``` und ```femaleCheck``` zur Liste hinzu."
   ]
  },
  {
   "cell_type": "code",
   "execution_count": 16,
   "metadata": {
    "dotnet_interactive": {
     "language": "csharp"
    },
    "vscode": {
     "languageId": "polyglot-notebook"
    }
   },
   "outputs": [],
   "source": [
    "List<PersonCheckDelegate> multipleChecks = [\n",
    "    IsOldEnoughToVote,\n",
    "    femaleCheck\n",
    "];"
   ]
  },
  {
   "cell_type": "markdown",
   "metadata": {},
   "source": [
    "## Aufgabe 7:\n",
    "Iterieren Sie wieder über alle Personen aus ```people``` (siehe Aufgabe 4), prüfen Sie nun aber sämtliche Checks aus ```multipleChecks``` ab. Erfüllt eine Person alle Bedingungen, so geben Sie diese auf der Konsole aus (es sollte nur Barbara übrig bleiben).\n",
    "\n",
    "Hinweis: Collections besitzen die Erweiterungsmethode ```.All```, die eine kompaktere Schreibweise ermöglichen würde."
   ]
  },
  {
   "cell_type": "code",
   "execution_count": 20,
   "metadata": {
    "dotnet_interactive": {
     "language": "csharp"
    },
    "vscode": {
     "languageId": "polyglot-notebook"
    }
   },
   "outputs": [
    {
     "name": "stdout",
     "output_type": "stream",
     "text": [
      "Barbara\r\n"
     ]
    }
   ],
   "source": [
    "foreach (var p in people)\n",
    "{\n",
    "    if (multipleChecks.All(check => check(p)))\n",
    "        Console.WriteLine(p.FirstName);\n",
    "\n",
    "    /*bool allChecksPassed = true;\n",
    "    foreach (var c in multipleChecks)\n",
    "    {\n",
    "        if (!c.Invoke(p))\n",
    "        {\n",
    "            allChecksPassed = false;\n",
    "            break;\n",
    "        }\n",
    "    }\n",
    "    if (allChecksPassed)\n",
    "        Console.WriteLine(p.FirstName);*/\n",
    "}"
   ]
  }
 ],
 "metadata": {
  "kernelspec": {
   "display_name": ".NET (C#)",
   "language": "C#",
   "name": ".net-csharp"
  },
  "language_info": {
   "name": "C#"
  },
  "polyglot_notebook": {
   "kernelInfo": {
    "defaultKernelName": "csharp",
    "items": [
     {
      "aliases": [],
      "name": "csharp"
     }
    ]
   }
  }
 },
 "nbformat": 4,
 "nbformat_minor": 2
}
